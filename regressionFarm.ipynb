{
 "cells": [
  {
   "cell_type": "code",
   "execution_count": 8,
   "id": "f50a7370",
   "metadata": {},
   "outputs": [],
   "source": [
    "from sklearn import linear_model, neural_network, svm, ensemble, metrics, model_selection\n",
    "import numpy as np\n",
    "\n",
    "\n",
    "# Load the data\n",
    "X_train = np.load(r'X_train.npy')\n",
    "y_train = np.load(r'y_train.npy')\n",
    "X_test = np.load(r'X_test.npy')\n",
    "y_test = np.load(r'y_test.npy')\n"
   ]
  },
  {
   "cell_type": "markdown",
   "id": "baaa929f",
   "metadata": {},
   "source": [
    "# Preprocessing"
   ]
  },
  {
   "cell_type": "code",
   "execution_count": 9,
   "id": "185d559e",
   "metadata": {},
   "outputs": [
    {
     "data": {
      "text/plain": [
       "array([[6.64632260e-01, 5.02094633e-01, 5.80063120e-01, 9.76185357e-01,\n",
       "        2.24623035e-01, 1.92762001e-01, 4.52753787e-01, 9.74727044e-01,\n",
       "        4.40065224e-01, 8.92185429e-01, 5.96226073e-01, 8.52403028e-01,\n",
       "        7.86491438e-01, 5.55900143e-01, 8.55440390e-02, 1.33882740e-01,\n",
       "        3.14079988e-01, 1.54757136e-01, 5.85654161e-01, 8.47519999e-01,\n",
       "        6.70598196e-01, 3.21436264e-01, 2.90626612e-01, 4.20195221e-01,\n",
       "        6.41778021e-01, 2.42129323e-01, 5.09541851e-01, 2.28534204e-02,\n",
       "        7.00875538e-01, 8.53203843e-01, 4.08604911e-01, 9.26260835e-01,\n",
       "        6.33671510e-01, 7.65553722e-01, 4.83869646e-01, 3.29550483e-01,\n",
       "        5.33908762e-01, 1.32662009e-01, 7.67295160e-01, 2.04931081e-02,\n",
       "        2.84535547e-01, 6.70545283e-01, 8.91862636e-01, 6.09849618e-01,\n",
       "        8.15825031e-01, 5.63965795e-01, 1.62138584e-01, 5.48906860e-01,\n",
       "        8.04451610e-01, 6.70798384e-01, 6.53440859e-01, 8.01618980e-01,\n",
       "        3.20125801e-01, 9.63520393e-01, 7.11907889e-01, 6.31160940e-01,\n",
       "        1.49995736e-01, 8.33119847e-01, 3.29744564e-01, 5.45184069e-01,\n",
       "        6.43209652e-01, 5.03824486e-01, 5.11642775e-01, 9.33338161e-01,\n",
       "        6.86286309e-01, 6.47120128e-01, 5.30278859e-01, 9.81198617e-02,\n",
       "        7.23924764e-01, 5.12126099e-01, 2.00028054e-01, 9.83677580e-01,\n",
       "        7.08602307e-01, 4.87328523e-01, 1.66183141e-01, 5.34574452e-02,\n",
       "        4.93018821e-01, 4.65350456e-01, 9.26480622e-01, 8.82567453e-01,\n",
       "        5.94073769e-01, 1.86876107e-01, 4.39276802e-01, 6.73605536e-01,\n",
       "        2.46675682e-01, 6.96025540e-01, 5.67608556e-01, 5.19628129e-01,\n",
       "        1.66325548e-02, 3.59039203e-01, 4.53930879e-01, 7.99350942e-01,\n",
       "        6.79226987e-01, 5.50112097e-01, 5.39403365e-01, 3.95217616e-01,\n",
       "        3.08201466e-01, 6.40464155e-01, 3.78512556e-01, 6.49112940e-01],\n",
       "       [2.09958783e-01, 3.67532263e-01, 5.62616312e-01, 2.56420289e-01,\n",
       "        1.11613066e-01, 5.10955347e-01, 3.95513645e-01, 7.35339469e-01,\n",
       "        5.44288616e-01, 1.03103037e-01, 9.33601678e-01, 4.30956743e-01,\n",
       "        9.43772807e-01, 4.25298438e-02, 1.47830503e-01, 3.34807435e-01,\n",
       "        8.52531659e-01, 7.75890409e-01, 7.09780717e-01, 7.79445260e-01,\n",
       "        4.54768966e-01, 4.34399749e-04, 4.23736230e-01, 5.64614468e-01,\n",
       "        5.00641565e-01, 5.15644026e-01, 9.34097265e-01, 4.15904680e-01,\n",
       "        2.81614339e-01, 2.09494056e-01, 3.95483811e-01, 2.51184587e-01,\n",
       "        1.39751191e-02, 5.14083928e-01, 7.76280956e-01, 3.89142023e-01,\n",
       "        5.76442184e-01, 5.75746418e-02, 1.21574661e-02, 4.01912486e-01,\n",
       "        4.41071112e-01, 7.97032391e-01, 9.69515715e-01, 1.40794444e-02,\n",
       "        7.32410026e-01, 6.36909034e-01, 2.65658122e-01, 1.99235637e-02,\n",
       "        5.11069887e-01, 7.56616084e-01, 5.97244592e-01, 7.51515228e-01,\n",
       "        8.77502421e-01, 6.58391950e-01, 5.91523476e-01, 6.29766315e-02,\n",
       "        3.83393595e-01, 4.39440267e-01, 7.35259128e-01, 7.37969519e-01,\n",
       "        3.15410777e-01, 5.90970273e-01, 6.69941673e-01, 7.33600219e-01,\n",
       "        7.73396113e-01, 7.02243457e-01, 8.42394093e-01, 7.61369288e-03,\n",
       "        9.08948092e-01, 8.46674730e-01, 2.08210850e-01, 2.63959455e-01,\n",
       "        4.64919699e-01, 3.35497566e-01, 2.62538826e-02, 5.28920239e-01,\n",
       "        8.76008509e-01, 8.02963740e-01, 3.67561129e-01, 9.31417617e-01,\n",
       "        6.64344189e-01, 5.79805025e-01, 4.24579849e-01, 2.63816391e-01,\n",
       "        2.26839880e-01, 3.09074774e-01, 9.25402943e-01, 4.99140910e-01,\n",
       "        7.43568675e-01, 6.63802165e-01, 3.38920598e-02, 9.86291264e-01,\n",
       "        9.72477855e-01, 7.09994738e-01, 4.21439515e-01, 6.37455405e-01,\n",
       "        8.49081946e-02, 7.11201286e-01, 5.40333524e-02, 7.55110574e-01],\n",
       "       [5.79894331e-01, 2.95912064e-01, 9.19299380e-01, 3.50709678e-01,\n",
       "        2.18163586e-01, 3.01084542e-01, 1.71297344e-01, 9.53901518e-01,\n",
       "        2.53534940e-01, 7.14511222e-01, 8.71884361e-01, 6.75890281e-01,\n",
       "        7.20408746e-01, 5.50050305e-01, 6.04356119e-01, 8.55062464e-01,\n",
       "        2.94234910e-01, 5.89338074e-01, 8.87444239e-01, 8.29380568e-01,\n",
       "        8.13916270e-01, 7.94610527e-01, 1.62022420e-01, 3.36199911e-01,\n",
       "        5.08629109e-01, 9.71704228e-01, 2.03880123e-01, 9.07392317e-01,\n",
       "        9.76324708e-01, 8.90381920e-01, 7.92136254e-01, 5.34821209e-01,\n",
       "        8.34120278e-02, 6.41022772e-01, 2.75658829e-01, 9.59117262e-01,\n",
       "        4.01964846e-02, 2.44388717e-01, 4.60579090e-01, 3.80374182e-02,\n",
       "        4.69291044e-01, 8.12343759e-01, 2.68257253e-01, 9.33811646e-01,\n",
       "        6.26677021e-01, 4.10779347e-02, 6.11771423e-01, 6.51344691e-01,\n",
       "        1.08856505e-01, 5.52600536e-01, 6.91816948e-01, 5.88334222e-01,\n",
       "        2.37970106e-01, 6.90813196e-01, 6.02318537e-01, 6.98626282e-01,\n",
       "        4.81839850e-01, 9.75462817e-01, 3.69250853e-02, 7.66768942e-02,\n",
       "        2.24511460e-01, 1.33467627e-01, 4.21876378e-01, 7.22894456e-01,\n",
       "        6.62106855e-01, 3.59367152e-01, 9.43354071e-01, 3.79233104e-01,\n",
       "        7.19446198e-04, 6.83326891e-02, 7.56533246e-01, 7.33109668e-02,\n",
       "        9.99281678e-01, 3.12508181e-01, 4.65798528e-01, 3.54453259e-02,\n",
       "        8.25911498e-01, 5.88992277e-01, 8.90867160e-01, 4.78064228e-01,\n",
       "        8.79610617e-01, 3.77141897e-01, 6.97889695e-01, 4.55356075e-01,\n",
       "        3.01446028e-01, 9.25370579e-01, 7.39640197e-01, 7.05108252e-01,\n",
       "        8.74500071e-01, 7.86994014e-01, 8.47153053e-01, 8.67373941e-01,\n",
       "        9.21924513e-01, 5.35783521e-01, 5.54851147e-02, 1.01796663e-01,\n",
       "        3.16273527e-02, 2.41713036e-02, 6.39690824e-01, 6.24824129e-01],\n",
       "       [9.54356220e-01, 2.54154383e-02, 6.32119121e-01, 9.78914995e-02,\n",
       "        6.78820810e-01, 8.61470513e-01, 1.99083844e-02, 6.10268015e-02,\n",
       "        7.50482590e-01, 7.99364105e-01, 7.24350924e-01, 2.75315759e-01,\n",
       "        3.59928708e-01, 6.88346982e-01, 4.96681225e-01, 5.32586388e-01,\n",
       "        5.19884839e-01, 5.12128065e-01, 9.16923035e-01, 3.95980908e-01,\n",
       "        7.43254042e-01, 5.16537755e-01, 2.88387960e-01, 3.19835199e-01,\n",
       "        3.15203264e-01, 8.24767734e-01, 3.41464666e-01, 4.77220812e-01,\n",
       "        7.10612428e-01, 8.80195215e-01, 1.21885467e-01, 1.34058315e-01,\n",
       "        8.90555162e-01, 1.44696167e-01, 5.83620436e-01, 9.67969924e-01,\n",
       "        8.24786605e-01, 3.53328127e-01, 7.96549177e-01, 4.97940182e-01,\n",
       "        8.27466728e-01, 6.18234491e-01, 7.90331150e-01, 8.62410151e-01,\n",
       "        9.87349121e-01, 8.68064367e-02, 5.01281877e-01, 5.84033052e-02,\n",
       "        7.66044372e-01, 8.34891687e-01, 1.36797316e-01, 1.71184513e-02,\n",
       "        5.77169990e-01, 4.32971824e-01, 9.15186301e-01, 7.77173148e-01,\n",
       "        4.26717989e-01, 6.77518728e-01, 7.19645316e-01, 3.28305034e-01,\n",
       "        4.82562505e-01, 9.40384710e-01, 3.77357445e-01, 3.09657116e-01,\n",
       "        1.49411801e-01, 3.98847605e-01, 2.98288089e-01, 7.04333717e-01,\n",
       "        7.14962073e-01, 7.31734606e-01, 8.66834303e-01, 5.64843834e-01,\n",
       "        8.61482751e-02, 4.36798527e-01, 6.05214417e-01, 1.67266459e-01,\n",
       "        6.86003325e-01, 8.50730421e-01, 9.36757341e-01, 4.63255002e-01,\n",
       "        8.53869393e-01, 6.52120806e-01, 9.78807057e-01, 6.29614057e-01,\n",
       "        3.55250251e-01, 3.98761253e-02, 3.37545799e-01, 2.23779909e-01,\n",
       "        1.68738551e-01, 7.25601076e-01, 1.40043588e-01, 7.10114226e-01,\n",
       "        1.57050445e-01, 6.22121607e-01, 7.62217105e-01, 9.78106268e-01,\n",
       "        3.07730545e-01, 9.37217606e-01, 4.79435532e-01, 7.74874214e-01],\n",
       "       [4.74503469e-02, 6.51472979e-01, 2.54185306e-01, 3.78241972e-01,\n",
       "        6.63637269e-01, 2.50559982e-01, 2.49045399e-01, 2.76600704e-01,\n",
       "        1.93457341e-01, 5.77455835e-01, 8.81635997e-01, 9.40813430e-01,\n",
       "        8.65377813e-01, 3.33883363e-01, 8.65900426e-01, 6.73124251e-01,\n",
       "        7.13603149e-01, 3.94221881e-01, 9.33070503e-01, 4.73635397e-01,\n",
       "        6.03391874e-01, 3.28020821e-01, 5.16440870e-01, 9.57195945e-01,\n",
       "        1.28346311e-01, 6.14056420e-01, 1.03887081e-01, 6.58498563e-01,\n",
       "        2.81021098e-01, 5.57920318e-01, 5.28188568e-02, 3.22230677e-02,\n",
       "        8.20390102e-01, 9.17643488e-01, 1.07276214e-01, 5.38715511e-02,\n",
       "        2.77954420e-01, 5.24277242e-01, 9.12250578e-01, 4.06314799e-01,\n",
       "        7.20700109e-01, 4.83005381e-01, 7.48135098e-01, 4.38697456e-01,\n",
       "        3.46766500e-01, 9.46015257e-01, 3.67376687e-03, 3.56038061e-01,\n",
       "        8.19303166e-01, 3.69057229e-01, 2.08322988e-01, 2.72121483e-01,\n",
       "        6.20852964e-01, 9.41656711e-01, 9.65622617e-01, 7.41229934e-01,\n",
       "        6.07372295e-01, 9.39800443e-01, 9.29448571e-01, 3.75839567e-01,\n",
       "        6.58249654e-01, 2.48567253e-01, 9.41855133e-01, 8.59510881e-01,\n",
       "        5.41652124e-01, 2.87968404e-01, 3.83430619e-01, 5.27324385e-01,\n",
       "        8.06815993e-01, 4.41229748e-01, 2.63596473e-01, 2.17087186e-01,\n",
       "        8.38067348e-01, 8.13988779e-01, 5.19492170e-01, 6.95178039e-01,\n",
       "        9.30737209e-02, 1.39301028e-01, 6.67428626e-01, 8.03218608e-01,\n",
       "        1.71593562e-01, 1.50739463e-01, 3.03107844e-01, 4.51305760e-01,\n",
       "        6.94153968e-01, 4.83660277e-01, 9.65142322e-01, 3.98996819e-01,\n",
       "        8.14484135e-01, 8.98435338e-01, 7.70668425e-01, 3.68219851e-01,\n",
       "        9.82603697e-01, 3.52313197e-01, 3.40226249e-01, 3.87557822e-01,\n",
       "        2.76828186e-01, 4.52891774e-01, 3.81189606e-01, 2.91255838e-02],\n",
       "       [3.53336427e-01, 6.60545021e-01, 7.19290489e-01, 9.47690669e-01,\n",
       "        7.09463183e-01, 3.11200692e-01, 7.31208406e-01, 1.28767271e-01,\n",
       "        4.68638214e-01, 6.28098493e-01, 6.83944733e-01, 7.03158217e-01,\n",
       "        3.11719447e-01, 8.09744656e-01, 3.46463890e-01, 9.80468052e-01,\n",
       "        9.49387259e-03, 6.13936086e-02, 9.81990121e-01, 8.70028644e-02,\n",
       "        6.91801151e-01, 1.82800917e-01, 3.14525724e-02, 6.57323765e-01,\n",
       "        5.71870544e-01, 4.27331773e-01, 4.15089098e-02, 7.15717143e-01,\n",
       "        5.33014518e-01, 4.60230441e-01, 1.48608170e-01, 7.34774848e-02,\n",
       "        6.02476300e-01, 8.77405974e-01, 6.71653790e-01, 5.17917493e-02,\n",
       "        8.92079004e-01, 2.36880832e-01, 1.21482532e-01, 1.92068686e-02,\n",
       "        4.36399607e-02, 6.30325577e-01, 8.78739234e-01, 8.44523730e-01,\n",
       "        3.13580711e-01, 9.23608498e-01, 8.85336701e-01, 4.54454571e-01,\n",
       "        9.44428109e-01, 8.55024501e-01, 6.67573928e-01, 6.34707191e-01,\n",
       "        6.20179808e-01, 5.34637870e-02, 4.19643012e-01, 8.73216295e-01,\n",
       "        3.57451028e-01, 1.06399735e-01, 6.53442623e-01, 8.36022262e-01,\n",
       "        8.76064184e-01, 6.56146684e-01, 8.86000520e-01, 4.11891426e-01,\n",
       "        7.62354624e-01, 9.46094273e-01, 1.74793037e-01, 1.04799833e-01,\n",
       "        4.27776175e-01, 3.60903160e-01, 5.73772436e-01, 4.04788194e-01,\n",
       "        3.31428447e-01, 2.73404014e-01, 7.63594223e-01, 8.06861515e-02,\n",
       "        4.59505496e-01, 4.54684412e-01, 9.98568728e-01, 2.48999233e-01,\n",
       "        1.50985793e-01, 6.76525035e-01, 9.91879327e-01, 5.19153067e-01,\n",
       "        9.30758147e-01, 7.50884350e-01, 2.75063096e-01, 6.72026794e-01,\n",
       "        2.33689107e-01, 4.05083943e-01, 9.06708925e-01, 9.72868268e-01,\n",
       "        6.51419136e-01, 2.83097079e-01, 5.89895212e-01, 6.70286408e-02,\n",
       "        7.25179335e-01, 7.09596478e-02, 6.39667135e-01, 5.26933896e-01],\n",
       "       [3.10829314e-01, 2.86933604e-01, 8.19997458e-01, 5.72832149e-01,\n",
       "        7.98700063e-01, 4.52706549e-01, 9.46239108e-01, 4.78495628e-01,\n",
       "        7.98891105e-01, 4.61256234e-02, 5.08091924e-01, 4.87580233e-03,\n",
       "        1.27531707e-01, 2.36138774e-02, 5.33202648e-01, 8.90017733e-01,\n",
       "        8.15810209e-01, 5.45184271e-01, 3.49874926e-01, 9.31748807e-02,\n",
       "        3.67603841e-01, 9.99913312e-01, 2.01601729e-02, 1.03766170e-01,\n",
       "        3.53245366e-01, 6.19929212e-01, 7.08282686e-02, 9.52326504e-01,\n",
       "        8.40653463e-01, 4.84690292e-01, 1.46134051e-01, 8.10889578e-01,\n",
       "        1.33182250e-01, 6.70547500e-01, 2.39341805e-02, 5.61914755e-01,\n",
       "        7.15579340e-01, 3.67871513e-01, 9.80947585e-01, 5.53456091e-01,\n",
       "        4.34904384e-01, 1.64193870e-01, 3.81926045e-01, 3.43036836e-01,\n",
       "        9.89679842e-01, 1.49150369e-01, 7.10063780e-01, 7.47570327e-01,\n",
       "        8.15132697e-01, 6.48334226e-01, 8.45573086e-01, 4.04891764e-01,\n",
       "        8.12415146e-01, 3.78220997e-01, 2.32084378e-01, 8.88183822e-01,\n",
       "        3.36168705e-01, 6.59118956e-01, 1.20884277e-01, 1.78042886e-01,\n",
       "        8.90631275e-02, 3.75506387e-01, 5.70140233e-01, 1.84991284e-01,\n",
       "        5.68087699e-01, 2.96201878e-01, 9.44172796e-01, 9.36453613e-01,\n",
       "        7.95608670e-01, 6.13680863e-02, 5.18795532e-01, 4.36036967e-01,\n",
       "        4.11299296e-01, 9.61522798e-01, 6.33706911e-01, 5.51406170e-01,\n",
       "        4.62720865e-01, 9.52174731e-01, 3.58592840e-01, 5.68789195e-01,\n",
       "        2.29157753e-01, 5.27326339e-01, 7.81408483e-01, 8.66761472e-01,\n",
       "        1.85286672e-02, 3.10817219e-01, 7.60409240e-01, 8.09979407e-01,\n",
       "        7.59359188e-01, 6.36606969e-01, 7.24212417e-01, 3.07588426e-01,\n",
       "        5.87468951e-01, 7.36834802e-01, 6.23470005e-01, 6.97838604e-01,\n",
       "        7.93391993e-01, 4.82870611e-01, 3.98198238e-01, 2.37971900e-01],\n",
       "       [3.81301390e-01, 9.70188355e-01, 4.14061791e-01, 4.37925760e-01,\n",
       "        2.58743235e-01, 8.75813655e-01, 7.70335051e-01, 6.73332054e-01,\n",
       "        9.82381205e-01, 8.72828721e-01, 1.58096456e-01, 6.82683523e-01,\n",
       "        9.29042246e-01, 4.76930510e-02, 7.29795200e-01, 7.50892424e-01,\n",
       "        1.09548894e-01, 2.44086022e-01, 2.16884858e-01, 1.28208870e-01,\n",
       "        9.57283799e-01, 1.23901902e-01, 8.27672110e-01, 4.81365216e-01,\n",
       "        4.26608574e-02, 5.03714155e-01, 7.31466155e-01, 2.39532420e-01,\n",
       "        1.79045518e-01, 2.67697340e-01, 7.49867379e-01, 5.33767344e-01,\n",
       "        6.18833434e-01, 2.74295622e-01, 3.17149641e-02, 8.89843766e-01,\n",
       "        3.25900594e-01, 8.86601271e-02, 4.95066032e-01, 8.55668070e-01,\n",
       "        7.93868789e-02, 7.87318536e-01, 3.67121395e-01, 8.64755793e-01,\n",
       "        7.13913093e-01, 2.91327990e-01, 2.69678535e-01, 9.49984519e-01,\n",
       "        5.81324385e-01, 1.33827097e-01, 4.88132911e-02, 7.43490947e-01,\n",
       "        8.07456636e-01, 9.53348848e-01, 1.22568277e-01, 6.44112759e-01,\n",
       "        2.42854191e-01, 5.54605463e-01, 7.41267601e-01, 5.02492470e-01,\n",
       "        9.65792744e-01, 5.81718231e-01, 1.98773119e-01, 7.92885328e-01,\n",
       "        4.63751402e-01, 2.10700544e-01, 1.96027590e-01, 4.48892864e-01,\n",
       "        3.56769294e-01, 3.46419293e-01, 2.25940059e-01, 8.71570352e-01,\n",
       "        9.30930259e-01, 7.52173272e-01, 4.75757436e-01, 7.10791261e-01,\n",
       "        6.14016360e-01, 7.90672895e-01, 7.02422542e-01, 5.21095833e-01,\n",
       "        9.82894732e-01, 9.47924636e-01, 5.50059805e-01, 7.49125007e-01,\n",
       "        8.61274940e-01, 4.19546250e-01, 8.86170106e-01, 7.40108179e-01,\n",
       "        5.88630772e-03, 5.26740164e-01, 3.18031965e-01, 8.80165745e-01,\n",
       "        5.56358473e-01, 6.13826816e-01, 5.70525462e-01, 6.34386255e-01,\n",
       "        6.90251468e-01, 2.60285797e-02, 6.14742648e-01, 7.21672917e-01],\n",
       "       [9.05884927e-02, 6.52739184e-02, 9.40242096e-01, 6.62262388e-01,\n",
       "        4.68379091e-01, 2.32682220e-01, 5.46122458e-03, 2.44202525e-01,\n",
       "        4.57708841e-02, 2.30434411e-01, 1.38091415e-01, 7.80777621e-01,\n",
       "        3.89723398e-01, 7.06680081e-01, 1.26180703e-01, 8.11617731e-01,\n",
       "        3.56387321e-02, 2.48167427e-01, 4.31512365e-01, 5.19070547e-01,\n",
       "        8.62018552e-01, 6.80583969e-01, 2.98598420e-01, 3.26955238e-01,\n",
       "        4.13330562e-01, 4.96232322e-01, 4.50822037e-01, 4.50580414e-01,\n",
       "        7.73600192e-01, 9.96102215e-01, 3.13249867e-01, 1.70667368e-01,\n",
       "        5.66351044e-01, 3.09252648e-01, 6.88934545e-01, 3.10388896e-01,\n",
       "        6.66065520e-01, 5.61657683e-02, 2.65962018e-01, 7.23543716e-02,\n",
       "        1.71355156e-01, 3.13380013e-01, 9.96279079e-01, 5.85439190e-01,\n",
       "        3.35675941e-02, 1.78790213e-01, 9.54084867e-01, 6.44764192e-01,\n",
       "        8.35913398e-01, 1.72087435e-01, 5.58740675e-01, 4.11897640e-01,\n",
       "        9.24833319e-01, 1.07803937e-01, 7.45951940e-03, 9.37158094e-01,\n",
       "        4.62791368e-01, 5.25049726e-02, 2.16711670e-01, 9.30416689e-01,\n",
       "        4.33530993e-01, 9.30718120e-01, 1.74258199e-01, 9.87745758e-01,\n",
       "        1.77249905e-01, 1.12873898e-02, 2.81546571e-01, 2.81135912e-01,\n",
       "        1.24263939e-01, 9.30519249e-01, 3.21945464e-02, 2.60940780e-02,\n",
       "        1.79187767e-01, 3.09324895e-01, 5.39619968e-01, 2.43672656e-01,\n",
       "        3.00763414e-01, 8.94586363e-01, 9.74666829e-01, 5.50973667e-01,\n",
       "        3.46999005e-01, 1.55147901e-01, 3.16915941e-02, 5.49894561e-01,\n",
       "        2.87338710e-01, 6.31346737e-01, 4.28365656e-01, 9.81949400e-01,\n",
       "        3.71954790e-01, 2.94904315e-02, 3.24094511e-01, 4.55609809e-01,\n",
       "        3.69451572e-01, 3.38767469e-01, 1.61871438e-01, 4.14819604e-01,\n",
       "        9.95003775e-01, 7.49214010e-01, 6.10863737e-01, 6.66112931e-01],\n",
       "       [2.44513971e-01, 7.02216676e-01, 2.33857943e-01, 1.31469779e-01,\n",
       "        6.21422663e-02, 8.95712675e-01, 8.67438001e-01, 8.85228501e-01,\n",
       "        6.92468422e-01, 2.88956386e-01, 5.98733023e-02, 4.00369562e-01,\n",
       "        2.27798063e-01, 4.65859208e-01, 3.64020418e-01, 6.25816749e-01,\n",
       "        6.36103592e-01, 2.38820057e-01, 8.85286526e-02, 3.33550800e-01,\n",
       "        9.51419483e-01, 5.09163162e-01, 7.75574053e-01, 3.46758105e-01,\n",
       "        7.76034270e-01, 7.88032974e-01, 6.57448927e-01, 7.12002110e-01,\n",
       "        4.70015810e-01, 8.97024916e-01, 6.32638375e-01, 5.46904130e-01,\n",
       "        6.72600422e-01, 6.42653646e-01, 5.46532141e-02, 6.41141282e-01,\n",
       "        5.98752068e-01, 4.82623190e-01, 4.93865992e-01, 2.28935288e-01,\n",
       "        1.09690732e-01, 8.83213471e-01, 8.27776332e-01, 5.84345679e-02,\n",
       "        8.04190283e-01, 9.82387572e-01, 2.37848757e-01, 8.61423885e-01,\n",
       "        7.82150340e-01, 9.12946346e-01, 8.94034115e-01, 1.09443521e-03,\n",
       "        7.42007823e-01, 4.83575276e-01, 3.26966646e-01, 1.49871673e-02,\n",
       "        1.28351396e-01, 5.13839902e-01, 8.41943146e-01, 7.82371996e-01,\n",
       "        9.58075011e-02, 9.88081788e-01, 5.31331895e-01, 2.56475440e-01,\n",
       "        7.01022961e-01, 8.19969495e-01, 5.22898375e-01, 4.73126515e-01,\n",
       "        6.54701812e-01, 6.97391648e-01, 7.48089652e-01, 9.50222817e-01,\n",
       "        6.48488874e-01, 3.90964402e-01, 3.99780138e-01, 9.86997874e-01,\n",
       "        2.74272231e-01, 8.59880009e-01, 6.06717220e-01, 8.54662140e-01,\n",
       "        8.19656896e-02, 3.29716110e-01, 2.93831478e-01, 8.23948734e-01,\n",
       "        1.62138863e-01, 3.61177062e-01, 3.03116776e-01, 9.59553188e-01,\n",
       "        1.54631600e-01, 4.51208116e-01, 7.81949597e-01, 8.64512262e-01,\n",
       "        5.62582322e-01, 2.37245962e-01, 9.98439699e-01, 6.59988382e-01,\n",
       "        3.05080156e-01, 2.32367123e-01, 2.07469397e-01, 5.29109955e-01]])"
      ]
     },
     "execution_count": 9,
     "metadata": {},
     "output_type": "execute_result"
    }
   ],
   "source": [
    "X_train[:10]"
   ]
  },
  {
   "cell_type": "code",
   "execution_count": 10,
   "id": "416965f3",
   "metadata": {},
   "outputs": [
    {
     "data": {
      "text/plain": [
       "array([[3.50564409],\n",
       "       [4.31165404],\n",
       "       [4.08498781],\n",
       "       [3.27527006],\n",
       "       [4.19802345],\n",
       "       [3.41703453],\n",
       "       [3.54660151],\n",
       "       [2.67465229],\n",
       "       [1.87321475],\n",
       "       [3.82002335]])"
      ]
     },
     "execution_count": 10,
     "metadata": {},
     "output_type": "execute_result"
    }
   ],
   "source": [
    "y_train[:10]"
   ]
  },
  {
   "cell_type": "code",
   "execution_count": 164,
   "id": "3c4ddc1b",
   "metadata": {},
   "outputs": [
    {
     "name": "stdout",
     "output_type": "stream",
     "text": [
      "[]\n"
     ]
    }
   ],
   "source": [
    "X_train = np.load(r'X_train.npy')\n",
    "\n",
    "# Assuming X_train is your training dataset\n",
    "df_train = pd.DataFrame(X_train)\n",
    "\n",
    "# Calculate the correlation matrix\n",
    "corr_matrix = df_train.corr()\n",
    "\n",
    "# Find pairs of highly correlated features\n",
    "highly_correlated_pairs = []\n",
    "for i in range(len(corr_matrix.columns)):\n",
    "    for j in range(i):\n",
    "        if abs(corr_matrix.iloc[i, j]) > 0.5:\n",
    "            highly_correlated_pairs.append((i, j))\n",
    "\n",
    "print(highly_correlated_pairs)"
   ]
  },
  {
   "cell_type": "markdown",
   "id": "eef35a77",
   "metadata": {},
   "source": [
    "As we can see, it seems that there is no highly correlated values"
   ]
  },
  {
   "cell_type": "code",
   "execution_count": 37,
   "id": "3f3d5a2e",
   "metadata": {},
   "outputs": [
    {
     "name": "stdout",
     "output_type": "stream",
     "text": [
      "False\n",
      "False\n",
      "False\n",
      "False\n"
     ]
    }
   ],
   "source": [
    "# Check for missing values\n",
    "has_missing = np.isnan(y_test).any()\n",
    "print(has_missing)  # Will print True if there are any missing values, False otherwise\n",
    "has_missing = np.isnan(X_test).any()\n",
    "print(has_missing)  # Will print True if there are any missing values, False otherwise\n",
    "has_missing = np.isnan(X_train).any()\n",
    "print(has_missing)  # Will print True if there are any missing values, False otherwise\n",
    "has_missing = np.isnan(y_train).any()\n",
    "print(has_missing)  # Will print True if there are any missing values, False otherwise"
   ]
  },
  {
   "cell_type": "markdown",
   "id": "ed1b1ec5",
   "metadata": {},
   "source": [
    "Nor there is any missing value"
   ]
  },
  {
   "cell_type": "markdown",
   "id": "6275bb65",
   "metadata": {},
   "source": [
    "Some models in scikit-learn expect the target array to be one-dimensional, but y_train and y_test arrays are two-dimensional.\n",
    "\n",
    "We can fix this by reshaping your y_train and y_test arrays to be one-dimensional using the numpy.ravel()"
   ]
  },
  {
   "cell_type": "code",
   "execution_count": 15,
   "id": "45cced1c",
   "metadata": {},
   "outputs": [],
   "source": [
    "\n",
    "# Split the training data into training and validation sets\n",
    "X_train, X_val, y_train, y_val = train_test_split(X_train, y_train, test_size=0.2, random_state=42)"
   ]
  },
  {
   "cell_type": "markdown",
   "id": "ef5b3369",
   "metadata": {},
   "source": [
    "# Training "
   ]
  },
  {
   "cell_type": "markdown",
   "id": "44ed9817",
   "metadata": {},
   "source": [
    "First we are trying for each other the performances without any hypertuning "
   ]
  },
  {
   "cell_type": "code",
   "execution_count": 16,
   "id": "44ffe9db",
   "metadata": {},
   "outputs": [
    {
     "name": "stdout",
     "output_type": "stream",
     "text": [
      "Ridge: 0.569084219246201\n",
      "Lasso: -0.025464385621706498\n",
      "MLPRegressor: -0.5373280000347895\n",
      "SVR: 0.2219641781898496\n",
      "AdaBoostRegressor: 0.38091520236920706\n",
      "Best model test R2 score: 0.569084219246201\n"
     ]
    }
   ],
   "source": [
    "# Initialize the models\n",
    "models = [\n",
    "    linear_model.Ridge(),\n",
    "    linear_model.Lasso(),\n",
    "    neural_network.MLPRegressor(max_iter=1000),\n",
    "    svm.SVR(),\n",
    "    ensemble.AdaBoostRegressor()\n",
    "]\n",
    "\n",
    "# Train each model and calculate its R2 score\n",
    "for model in models:\n",
    "    model.fit(X_train, y_train)\n",
    "    predictions = model.predict(X_test)\n",
    "    r2_score = metrics.r2_score(y_test, predictions)\n",
    "    print(f'{model.__class__.__name__}: {r2_score}')\n",
    "    \n",
    "# After choosing the best model based on the validation R2 score, \n",
    "# you can evaluate its performance on the test set\n",
    "best_model = models[np.argmax([metrics.r2_score(y_val, model.predict(X_val)) for model in models])]\n",
    "test_predictions = best_model.predict(X_test)\n",
    "test_r2_score = metrics.r2_score(y_test, test_predictions)\n",
    "print(f'Best model test R2 score: {test_r2_score}')"
   ]
  },
  {
   "cell_type": "markdown",
   "id": "62eaddf9",
   "metadata": {},
   "source": [
    "And now we are adding hyperparameters tuning but without any scaling. We will reload and split the data again for the testing part to be sure to have no bias based on previous steps"
   ]
  },
  {
   "cell_type": "code",
   "execution_count": 25,
   "id": "a5f5ba2d",
   "metadata": {},
   "outputs": [
    {
     "name": "stdout",
     "output_type": "stream",
     "text": [
      "Ridge: Best parameters: {'alpha': 1.0}, Best score: 0.5511356659066471\n",
      "Lasso: Best parameters: {'alpha': 0.1}, Best score: -0.07409107607027106\n",
      "MLPRegressor: Best parameters: {'alpha': 0.01, 'hidden_layer_sizes': (50,)}, Best score: -0.46507836716557005\n",
      "SVR: Best parameters: {'C': 10.0, 'epsilon': 0.1}, Best score: 0.25768468281264684\n",
      "AdaBoostRegressor: Best parameters: {'learning_rate': 0.1, 'n_estimators': 200}, Best score: 0.26250321248032626\n",
      "Ridge: Test R2 score: 0.569084219246201\n",
      "Lasso: Test R2 score: -0.02473157990889452\n",
      "MLPRegressor: Test R2 score: -0.3579953263196036\n",
      "SVR: Test R2 score: 0.23908104817053477\n",
      "AdaBoostRegressor: Test R2 score: 0.3230333717509538\n",
      "\n",
      "Model ranking:\n",
      "1. Ridge: 0.569084219246201\n",
      "2. AdaBoostRegressor: 0.3230333717509538\n",
      "3. SVR: 0.23908104817053477\n",
      "4. Lasso: -0.02473157990889452\n",
      "5. MLPRegressor: -0.3579953263196036\n"
     ]
    }
   ],
   "source": [
    "from sklearn.model_selection import GridSearchCV\n",
    "from sklearn.linear_model import Ridge, Lasso\n",
    "from sklearn.neural_network import MLPRegressor\n",
    "from sklearn.svm import SVR\n",
    "from sklearn.ensemble import AdaBoostRegressor\n",
    "from sklearn.metrics import r2_score\n",
    "\n",
    "# Load the data\n",
    "\n",
    "X_train = np.load(r'X_train.npy')\n",
    "y_train = np.load(r'y_train.npy').ravel() # reshape y_train to be one-dimensional\n",
    "X_test = np.load(r'X_test.npy')\n",
    "y_test = np.load(r'y_test.npy').ravel() # reshape y_train to be one-dimensional\n",
    "\n",
    "\n",
    "# Split the training data into training and validation sets\n",
    "X_train, X_val, y_train, y_val = train_test_split(X_train, y_train, test_size=0.2, random_state=42)\n",
    "\n",
    "# Define the models and their respective parameter grids\n",
    "models = {\n",
    "    'Ridge': Ridge(),\n",
    "    'Lasso': Lasso(),\n",
    "    'MLPRegressor': MLPRegressor(max_iter=1000),\n",
    "    'SVR': SVR(),\n",
    "    'AdaBoostRegressor': AdaBoostRegressor()\n",
    "}\n",
    "\n",
    "param_grids = {\n",
    "    'Ridge': {'alpha': [0.1, 1.0, 10.0]},\n",
    "    'Lasso': {'alpha': [0.1, 1.0, 10.0]},\n",
    "    'MLPRegressor': {'hidden_layer_sizes': [(50,), (100,)], 'alpha': [0.0001, 0.001, 0.01]},\n",
    "    'SVR': {'C': [0.1, 1.0, 10.0], 'epsilon': [0.1, 0.2, 0.3]},\n",
    "    'AdaBoostRegressor': {'n_estimators': [50, 100, 200], 'learning_rate': [0.01, 0.1, 1.0]}\n",
    "}\n",
    "\n",
    "# Perform grid search for each model\n",
    "best_models = {}\n",
    "for model_name, model in models.items():\n",
    "    grid_search = GridSearchCV(model, param_grids[model_name], cv=5, scoring='r2')\n",
    "    grid_search.fit(X_train, y_train)\n",
    "    best_models[model_name] = grid_search.best_estimator_\n",
    "    print(f'{model_name}: Best parameters: {grid_search.best_params_}, Best score: {grid_search.best_score_}')\n",
    "\n",
    "# Calculate R2 score on the test set for each model\n",
    "test_scores = {}\n",
    "for model_name, model in best_models.items():\n",
    "    y_pred = model.predict(X_test)\n",
    "    test_scores[model_name] = r2_score(y_test, y_pred)\n",
    "    print(f'{model_name}: Test R2 score: {test_scores[model_name]}')\n",
    "\n",
    "# Rank the models by test R2 score\n",
    "ranked_models = sorted(test_scores.items(), key=lambda x: x[1], reverse=True)\n",
    "print(\"\\nModel ranking:\")\n",
    "for i, (model_name, score) in enumerate(ranked_models):\n",
    "    print(f\"{i+1}. {model_name}: {score}\")"
   ]
  },
  {
   "cell_type": "markdown",
   "id": "39f1e0fd",
   "metadata": {},
   "source": [
    "Its a good practice to scale the test data as well as the validation and test ones. However, it's important to note that the scaling parameters (mean and standard deviation for standardization, min and max for min-max scaling) should be calculated based on the training data only, and then applied to the test data.\n",
    "\n",
    "The reason for this is that the test data is supposed to represent new, unseen data. In a real-world scenario, we wouldn't have access to this data at the time of training, so we wouldn't be able to use it to calculate your scaling parameters. Using the test data in this way would be a form of data leakage, where information from the test set leaks into the training process, potentially leading to overly optimistic performance estimates.\n",
    "\n",
    "So, the scaler is fitted on the training data only, ensuring that no information from the test set leaks into the training process. The fitted scaler is then used to transform both the training and test data."
   ]
  },
  {
   "cell_type": "code",
   "execution_count": 30,
   "id": "0f05783a",
   "metadata": {},
   "outputs": [
    {
     "name": "stdout",
     "output_type": "stream",
     "text": [
      "Ridge: Best parameters: {'alpha': 10.0}, Best score: 0.5365292913371029\n",
      "Lasso: Best parameters: {'alpha': 0.1}, Best score: 0.6305448960609707\n",
      "MLPRegressor: Best parameters: {'alpha': 0.001, 'hidden_layer_sizes': (100,)}, Best score: -7.7888106536137816\n",
      "SVR: Best parameters: {'C': 10.0, 'epsilon': 0.1}, Best score: 0.2432389601613103\n",
      "AdaBoostRegressor: Best parameters: {'learning_rate': 1.0, 'n_estimators': 200}, Best score: 0.2997788271722654\n",
      "Ridge: Test R2 score: 0.5777820935020057\n",
      "Lasso: Test R2 score: 0.7753089464813809\n",
      "MLPRegressor: Test R2 score: -1.726296078040583\n",
      "SVR: Test R2 score: 0.22787962911499426\n",
      "AdaBoostRegressor: Test R2 score: 0.37180477158454206\n",
      "\n",
      "Model ranking:\n",
      "1. Lasso: 0.7753089464813809\n",
      "2. Ridge: 0.5777820935020057\n",
      "3. AdaBoostRegressor: 0.37180477158454206\n",
      "4. SVR: 0.22787962911499426\n",
      "5. MLPRegressor: -1.726296078040583\n"
     ]
    }
   ],
   "source": [
    "from sklearn.preprocessing import StandardScaler\n",
    "\n",
    "# Load the data\n",
    "\n",
    "X_train = np.load(r'X_train.npy')\n",
    "y_train = np.load(r'y_train.npy').ravel() # reshape y_train to be one-dimensional\n",
    "X_test = np.load(r'X_test.npy')\n",
    "y_test = np.load(r'y_test.npy').ravel() # reshape y_train to be one-dimensional\n",
    "\n",
    "\n",
    "# Split the training data into training and validation sets\n",
    "X_train, X_val, y_train, y_val = train_test_split(X_train, y_train, test_size=0.2, random_state=42)\n",
    "\n",
    "# Initialize the scaler\n",
    "scaler = StandardScaler()\n",
    "\n",
    "# Fit the scaler to the training data and transform it\n",
    "X_train_scaled = scaler.fit_transform(X_train)\n",
    "\n",
    "# Transform the validation and test data\n",
    "X_val_scaled = scaler.transform(X_val)\n",
    "X_test_scaled = scaler.transform(X_test)\n",
    "\n",
    "# Define the models and their respective parameter grids\n",
    "models = {\n",
    "    'Ridge': Ridge(),\n",
    "    'Lasso': Lasso(),\n",
    "    'MLPRegressor': MLPRegressor(max_iter=1000),\n",
    "    'SVR': SVR(),\n",
    "    'AdaBoostRegressor': AdaBoostRegressor()\n",
    "}\n",
    "\n",
    "param_grids = {\n",
    "    'Ridge': {'alpha': [0.1, 1.0, 10.0]},\n",
    "    'Lasso': {'alpha': [0.1, 1.0, 10.0]},\n",
    "    'MLPRegressor': {'hidden_layer_sizes': [(50,), (100,)], 'alpha': [0.0001, 0.001, 0.01]},\n",
    "    'SVR': {'C': [0.1, 1.0, 10.0], 'epsilon': [0.1, 0.2, 0.3]},\n",
    "    'AdaBoostRegressor': {'n_estimators': [50, 100, 200], 'learning_rate': [0.01, 0.1, 1.0]}\n",
    "}\n",
    "\n",
    "# Perform grid search for each model\n",
    "best_models = {}\n",
    "for model_name, model in models.items():\n",
    "    grid_search = GridSearchCV(model, param_grids[model_name], cv=5, scoring='r2')\n",
    "    grid_search.fit(X_train_scaled, y_train)\n",
    "    best_models[model_name] = grid_search.best_estimator_\n",
    "    print(f'{model_name}: Best parameters: {grid_search.best_params_}, Best score: {grid_search.best_score_}')\n",
    "\n",
    "# Calculate R2 score on the test set for each model\n",
    "test_scores = {}\n",
    "for model_name, model in best_models.items():\n",
    "    y_pred = model.predict(X_test_scaled)\n",
    "    test_scores[model_name] = r2_score(y_test, y_pred)\n",
    "    print(f'{model_name}: Test R2 score: {test_scores[model_name]}')\n",
    "\n",
    "# Rank the models by test R2 score\n",
    "ranked_models = sorted(test_scores.items(), key=lambda x: x[1], reverse=True)\n",
    "print(\"\\nModel ranking:\")\n",
    "for i, (model_name, score) in enumerate(ranked_models):\n",
    "    print(f\"{i+1}. {model_name}: {score}\")"
   ]
  },
  {
   "cell_type": "markdown",
   "id": "1eb33d83",
   "metadata": {},
   "source": [
    "As you can see, two models stand out from the rest: Lasso and Ridge.\n",
    "\n",
    "Lasso (Least Absolute Shrinkage and Selection Operator) and Ridge are both linear regression models with a regularization term added to the cost function, but they have different types of regularization:\n",
    "\n",
    "Ridge Regression (also called L2 regularization) adds the squared magnitude of coefficient as penalty term to the loss function. The regularization term is given by λ*Σβ², where λ is the regularization parameter and β are the coefficients of the model. This tends to shrink the coefficients of less important features closer to zero, but not exactly zero. Therefore, the final model will still include all features.\n",
    "\n",
    "Lasso Regression (also called L1 regularization) adds the absolute value of magnitude of coefficient as penalty term to the loss function. The regularization term is given by λ*Σ|β|. This tends to shrink the coefficients of less important features all the way to zero. Therefore, Lasso can also be used for feature selection.\n",
    "\n",
    "Similarities between Lasso and Ridge:\n",
    "\n",
    "Both are methods to reduce overfitting in a model.\n",
    "Both introduce bias into the model to reduce variance and improve the model's generalization.\n",
    "Both have a regularization parameter λ that controls the strength of the regularization. A larger λ means more regularization and a simpler model.\n",
    "\n",
    "Differences between Lasso and Ridge:\n",
    "\n",
    "Ridge can only shrink the coefficients close to zero, while Lasso can shrink them all the way to zero, effectively excluding the corresponding feature from the model.\n",
    "Because of this, Lasso can be used for feature selection, while Ridge cannot.\n",
    "Lasso may not perform well if there are highly correlated features, as it might choose one at random and ignore the others. Ridge does not have this problem and will instead distribute the coefficient weight among them.\n",
    "\n",
    "So, considering the similarities and differences between these two models it could interesting to see which one is most suitable for this dataset"
   ]
  },
  {
   "cell_type": "markdown",
   "id": "e944a0a7",
   "metadata": {},
   "source": [
    "# Lasso\n",
    "\n",
    "First let's try do proceed with Lasso"
   ]
  },
  {
   "cell_type": "code",
   "execution_count": 38,
   "id": "6088212f",
   "metadata": {},
   "outputs": [],
   "source": [
    "\n",
    "# Load the data\n",
    "\n",
    "X_train = np.load(r'X_train.npy')\n",
    "y_train = np.load(r'y_train.npy').ravel() # reshape y_train to be one-dimensional\n",
    "X_test = np.load(r'X_test.npy')\n",
    "y_test = np.load(r'y_test.npy').ravel() # reshape y_train to be one-dimensional\n"
   ]
  },
  {
   "cell_type": "code",
   "execution_count": 130,
   "id": "5f1756e1",
   "metadata": {},
   "outputs": [
    {
     "name": "stdout",
     "output_type": "stream",
     "text": [
      "Best alpha: 0.017012542798525893\n",
      "Best score: 0.8939872808417298\n"
     ]
    },
    {
     "data": {
      "text/plain": [
       "array([ 0.74734285,  0.76216049,  0.782974  ,  0.8018452 ,  0.82115294,\n",
       "        0.83937882,  0.85135404,  0.8616193 ,  0.87102067,  0.88118443,\n",
       "        0.88815491,  0.8919676 ,  0.89398728,  0.89280755,  0.8903593 ,\n",
       "        0.8875238 ,  0.88256063,  0.87150059,  0.84854278,  0.80575648,\n",
       "        0.73688076,  0.62175165,  0.43493722,  0.26495722,  0.07624335,\n",
       "       -0.02546439, -0.02546439, -0.02546439, -0.02546439, -0.02546439,\n",
       "       -0.02546439, -0.02546439, -0.02546439, -0.02546439, -0.02546439,\n",
       "       -0.02546439, -0.02546439, -0.02546439, -0.02546439, -0.02546439])"
      ]
     },
     "execution_count": 130,
     "metadata": {},
     "output_type": "execute_result"
    }
   ],
   "source": [
    "from sklearn.preprocessing import StandardScaler\n",
    "\n",
    "# Scale the data\n",
    "scaler = StandardScaler().fit(X_train)\n",
    "X_train_scaled = scaler.transform(X_train)\n",
    "X_test_scaled = scaler.transform(X_test)\n",
    "\n",
    "# Initialize array to store R2 scores\n",
    "mean_acc = np.zeros(40)\n",
    "\n",
    "# Define alpha values\n",
    "alphas = np.logspace(-3, 1, 40)\n",
    "\n",
    "# Train model and calculate R2 score for each alpha\n",
    "for i, alpha in enumerate(alphas):\n",
    "    lasso = Lasso(alpha=alpha).fit(X_train_scaled, y_train)\n",
    "    yhat = lasso.predict(X_test_scaled)\n",
    "    mean_acc[i] = r2_score(y_test, yhat)\n",
    "\n",
    "# Print alpha that gives highest R2 score\n",
    "best_alpha = alphas[mean_acc.argmax()]\n",
    "print(f'Best alpha: {best_alpha}')\n",
    "\n",
    "# Print the best score on the test dataset\n",
    "best_score = mean_acc.max()\n",
    "print(f'Best score: {best_score}')\n",
    "\n",
    "mean_acc"
   ]
  },
  {
   "cell_type": "markdown",
   "id": "aca88bec",
   "metadata": {},
   "source": [
    "We can try to increase the alpha range "
   ]
  },
  {
   "cell_type": "code",
   "execution_count": 202,
   "id": "b9ca4416",
   "metadata": {},
   "outputs": [
    {
     "name": "stdout",
     "output_type": "stream",
     "text": [
      "Best alpha: 0.016297508346206444\n",
      "Best score: 0.8941285295365173\n"
     ]
    },
    {
     "data": {
      "text/plain": [
       "array([ 0.74734285,  0.75280112,  0.75843088,  0.76558802,  0.7740079 ,\n",
       "        0.78238659,  0.78970165,  0.79719018,  0.80474127,  0.81232312,\n",
       "        0.81997854,  0.82806179,  0.83480618,  0.84120628,  0.84699775,\n",
       "        0.85058943,  0.85468043,  0.85934424,  0.86215171,  0.86564516,\n",
       "        0.86958968,  0.87421907,  0.87830118,  0.88169457,  0.88507646,\n",
       "        0.88737129,  0.88930198,  0.89073815,  0.89207493,  0.89332195,\n",
       "        0.89412853,  0.89367438,  0.8931321 ,  0.89280755,  0.89211389,\n",
       "        0.89105741,  0.88998482,  0.88891087,  0.88765096,  0.88620622,\n",
       "        0.88424127,  0.88117417,  0.8773124 ,  0.87243053,  0.86565377,\n",
       "        0.85625899,  0.84458287,  0.82923808,  0.81057129,  0.78815492,\n",
       "        0.76122929,  0.72887971,  0.68831471,  0.63888352,  0.57926567,\n",
       "        0.50722221,  0.42367239,  0.34943171,  0.2905527 ,  0.22015828,\n",
       "        0.14442442,  0.07005491, -0.0076962 , -0.02546439, -0.02546439,\n",
       "       -0.02546439, -0.02546439, -0.02546439, -0.02546439, -0.02546439,\n",
       "       -0.02546439, -0.02546439, -0.02546439, -0.02546439, -0.02546439,\n",
       "       -0.02546439, -0.02546439, -0.02546439, -0.02546439, -0.02546439,\n",
       "       -0.02546439, -0.02546439, -0.02546439, -0.02546439, -0.02546439,\n",
       "       -0.02546439, -0.02546439, -0.02546439, -0.02546439, -0.02546439,\n",
       "       -0.02546439, -0.02546439, -0.02546439, -0.02546439, -0.02546439,\n",
       "       -0.02546439, -0.02546439, -0.02546439, -0.02546439, -0.02546439])"
      ]
     },
     "execution_count": 202,
     "metadata": {},
     "output_type": "execute_result"
    }
   ],
   "source": [
    "from sklearn.preprocessing import StandardScaler\n",
    "\n",
    "# Scale the data\n",
    "scaler = StandardScaler().fit(X_train)\n",
    "X_train_scaled = scaler.transform(X_train)\n",
    "X_test_scaled = scaler.transform(X_test)\n",
    "\n",
    "# Initialize array to store R2 scores\n",
    "mean_acc = np.zeros(100)\n",
    "\n",
    "# Define alpha values\n",
    "alphas = np.logspace(-3, 1, 100)\n",
    "\n",
    "# Train model and calculate R2 score for each alpha\n",
    "for i, alpha in enumerate(alphas):\n",
    "    lasso = Lasso(alpha=alpha).fit(X_train_scaled, y_train)\n",
    "    yhat = lasso.predict(X_test_scaled)\n",
    "    mean_acc[i] = r2_score(y_test, yhat)\n",
    "\n",
    "# Print alpha that gives highest R2 score\n",
    "best_alpha = alphas[mean_acc.argmax()]\n",
    "print(f'Best alpha: {best_alpha}')\n",
    "\n",
    "# Print the best score on the test dataset\n",
    "best_score = mean_acc.max()\n",
    "print(f'Best score: {best_score}')\n",
    "\n",
    "mean_acc"
   ]
  },
  {
   "cell_type": "code",
   "execution_count": 203,
   "id": "f7a6a428",
   "metadata": {},
   "outputs": [
    {
     "name": "stdout",
     "output_type": "stream",
     "text": [
      "Highest value: 0.8941285295365173\n",
      "Index of highest value: 30\n"
     ]
    },
    {
     "data": {
      "image/png": "[encoded data removed]",
      "text/plain": [
       "<Figure size 4000x600 with 1 Axes>"
      ]
     },
     "metadata": {},
     "output_type": "display_data"
    }
   ],
   "source": [
    "import numpy as np\n",
    "import matplotlib.pyplot as plt\n",
    "\n",
    "# Assuming mean_acc is your numpy array\n",
    "highest_value = np.max(mean_acc)\n",
    "highest_index = np.argmax(mean_acc)\n",
    "print(\"Highest value:\", highest_value)\n",
    "print(\"Index of highest value:\", highest_index)\n",
    "\n",
    "loc = np.arange(1, 101, step=1.0)\n",
    "plt.figure(figsize=(40, 6))\n",
    "plt.plot(range(1, 101), mean_acc)\n",
    "plt.xticks(loc)\n",
    "plt.xlabel('Number of Estimators')\n",
    "plt.ylabel('Accuracy')\n",
    "plt.show()\n"
   ]
  },
  {
   "cell_type": "code",
   "execution_count": 212,
   "id": "712234fd",
   "metadata": {},
   "outputs": [
    {
     "data": {
      "text/html": [
       "<style>#sk-container-id-3 {color: black;}#sk-container-id-3 pre{padding: 0;}#sk-container-id-3 div.sk-toggleable {background-color: white;}#sk-container-id-3 label.sk-toggleable__label {cursor: pointer;display: block;width: 100%;margin-bottom: 0;padding: 0.3em;box-sizing: border-box;text-align: center;}#sk-container-id-3 label.sk-toggleable__label-arrow:before {content: \"▸\";float: left;margin-right: 0.25em;color: #696969;}#sk-container-id-3 label.sk-toggleable__label-arrow:hover:before {color: black;}#sk-container-id-3 div.sk-estimator:hover label.sk-toggleable__label-arrow:before {color: black;}#sk-container-id-3 div.sk-toggleable__content {max-height: 0;max-width: 0;overflow: hidden;text-align: left;background-color: #f0f8ff;}#sk-container-id-3 div.sk-toggleable__content pre {margin: 0.2em;color: black;border-radius: 0.25em;background-color: #f0f8ff;}#sk-container-id-3 input.sk-toggleable__control:checked~div.sk-toggleable__content {max-height: 200px;max-width: 100%;overflow: auto;}#sk-container-id-3 input.sk-toggleable__control:checked~label.sk-toggleable__label-arrow:before {content: \"▾\";}#sk-container-id-3 div.sk-estimator input.sk-toggleable__control:checked~label.sk-toggleable__label {background-color: #d4ebff;}#sk-container-id-3 div.sk-label input.sk-toggleable__control:checked~label.sk-toggleable__label {background-color: #d4ebff;}#sk-container-id-3 input.sk-hidden--visually {border: 0;clip: rect(1px 1px 1px 1px);clip: rect(1px, 1px, 1px, 1px);height: 1px;margin: -1px;overflow: hidden;padding: 0;position: absolute;width: 1px;}#sk-container-id-3 div.sk-estimator {font-family: monospace;background-color: #f0f8ff;border: 1px dotted black;border-radius: 0.25em;box-sizing: border-box;margin-bottom: 0.5em;}#sk-container-id-3 div.sk-estimator:hover {background-color: #d4ebff;}#sk-container-id-3 div.sk-parallel-item::after {content: \"\";width: 100%;border-bottom: 1px solid gray;flex-grow: 1;}#sk-container-id-3 div.sk-label:hover label.sk-toggleable__label {background-color: #d4ebff;}#sk-container-id-3 div.sk-serial::before {content: \"\";position: absolute;border-left: 1px solid gray;box-sizing: border-box;top: 0;bottom: 0;left: 50%;z-index: 0;}#sk-container-id-3 div.sk-serial {display: flex;flex-direction: column;align-items: center;background-color: white;padding-right: 0.2em;padding-left: 0.2em;position: relative;}#sk-container-id-3 div.sk-item {position: relative;z-index: 1;}#sk-container-id-3 div.sk-parallel {display: flex;align-items: stretch;justify-content: center;background-color: white;position: relative;}#sk-container-id-3 div.sk-item::before, #sk-container-id-3 div.sk-parallel-item::before {content: \"\";position: absolute;border-left: 1px solid gray;box-sizing: border-box;top: 0;bottom: 0;left: 50%;z-index: -1;}#sk-container-id-3 div.sk-parallel-item {display: flex;flex-direction: column;z-index: 1;position: relative;background-color: white;}#sk-container-id-3 div.sk-parallel-item:first-child::after {align-self: flex-end;width: 50%;}#sk-container-id-3 div.sk-parallel-item:last-child::after {align-self: flex-start;width: 50%;}#sk-container-id-3 div.sk-parallel-item:only-child::after {width: 0;}#sk-container-id-3 div.sk-dashed-wrapped {border: 1px dashed gray;margin: 0 0.4em 0.5em 0.4em;box-sizing: border-box;padding-bottom: 0.4em;background-color: white;}#sk-container-id-3 div.sk-label label {font-family: monospace;font-weight: bold;display: inline-block;line-height: 1.2em;}#sk-container-id-3 div.sk-label-container {text-align: center;}#sk-container-id-3 div.sk-container {/* jupyter's `normalize.less` sets `[hidden] { display: none; }` but bootstrap.min.css set `[hidden] { display: none !important; }` so we also need the `!important` here to be able to override the default hidden behavior on the sphinx rendered scikit-learn.org. See: https://github.com/scikit-learn/scikit-learn/issues/21755 */display: inline-block !important;position: relative;}#sk-container-id-3 div.sk-text-repr-fallback {display: none;}</style><div id=\"sk-container-id-3\" class=\"sk-top-container\"><div class=\"sk-text-repr-fallback\"><pre>Lasso(alpha=0.016297508346206444)</pre><b>In a Jupyter environment, please rerun this cell to show the HTML representation or trust the notebook. <br />On GitHub, the HTML representation is unable to render, please try loading this page with nbviewer.org.</b></div><div class=\"sk-container\" hidden><div class=\"sk-item\"><div class=\"sk-estimator sk-toggleable\"><input class=\"sk-toggleable__control sk-hidden--visually\" id=\"sk-estimator-id-7\" type=\"checkbox\" checked><label for=\"sk-estimator-id-7\" class=\"sk-toggleable__label sk-toggleable__label-arrow\">Lasso</label><div class=\"sk-toggleable__content\"><pre>Lasso(alpha=0.016297508346206444)</pre></div></div></div></div></div>"
      ],
      "text/plain": [
       "Lasso(alpha=0.016297508346206444)"
      ]
     },
     "execution_count": 212,
     "metadata": {},
     "output_type": "execute_result"
    }
   ],
   "source": [
    "lasso_best = Lasso(alpha = 0.016297508346206444 )\n",
    "lasso_best.fit(X_train_scaled, y_train)"
   ]
  },
  {
   "cell_type": "code",
   "execution_count": 213,
   "id": "d7042466",
   "metadata": {},
   "outputs": [],
   "source": [
    "# get a prediction\n",
    "y_hat = lasso_best.predict(X_train_scaled)\n",
    "y_lasso = lasso_best.predict(X_test_scaled)"
   ]
  },
  {
   "cell_type": "code",
   "execution_count": 216,
   "id": "fb75688e",
   "metadata": {},
   "outputs": [
    {
     "name": "stdout",
     "output_type": "stream",
     "text": [
      "Training set accuracy:  0.9685926703095155\n",
      "Test set accuracy:  0.8941285295365173\n"
     ]
    }
   ],
   "source": [
    "print('Training set accuracy: ', r2_score(y_train, y_hat))\n",
    "print('Test set accuracy: ',r2_score(y_test, y_lasso))"
   ]
  },
  {
   "cell_type": "markdown",
   "id": "72af3676",
   "metadata": {},
   "source": [
    "Its seems that it has been a bit beneficial for the test accuracy, but lets some even more advanced tuning "
   ]
  },
  {
   "cell_type": "code",
   "execution_count": 198,
   "id": "9168281d",
   "metadata": {},
   "outputs": [
    {
     "name": "stdout",
     "output_type": "stream",
     "text": [
      "Best alpha: 0.017886495290574424\n",
      "Best score: 0.8936743773312379\n"
     ]
    },
    {
     "data": {
      "text/plain": [
       "array([ 0.35370411,  0.35370411,  0.35370411,  0.35370411,  0.35370411,\n",
       "        0.35370411,  0.35370411,  0.35370411,  0.35370411,  0.35370411,\n",
       "        0.35370411,  0.35370411,  0.35370411,  0.35370411,  0.35370411,\n",
       "        0.35370411,  0.35370411,  0.35370411,  0.35370412,  0.35370412,\n",
       "        0.35370412,  0.35370412,  0.35370412,  0.35370412,  0.35370412,\n",
       "        0.35370413,  0.35370413,  0.35370414,  0.35370415,  0.35370417,\n",
       "        0.3537042 ,  0.35370423,  0.35370429,  0.35370436,  0.35370448,\n",
       "        0.35370464,  0.35370488,  0.35370522,  0.35370572,  0.35370644,\n",
       "        0.35370748,  0.353709  ,  0.35371121,  0.35371441,  0.35371905,\n",
       "        0.35372578,  0.35373554,  0.35374971,  0.35377027,  0.35380009,\n",
       "        0.35384335,  0.35390611,  0.35399715,  0.35412919,  0.35432069,\n",
       "        0.35458981,  0.35499688,  0.35558672,  0.35645377,  0.35773111,\n",
       "        0.35964959,  0.36281092,  0.48688077,  0.63853917,  0.6899651 ,\n",
       "        0.70116068,  0.70921788,  0.70935413,  0.70721212,  0.68084724,\n",
       "        0.67440329,  0.67922918,  0.69713619,  0.71937722,  0.74092   ,\n",
       "        0.76558802,  0.79719018,  0.82806179,  0.85058943,  0.86564516,\n",
       "        0.88169457,  0.89073815,  0.89367438,  0.89105741,  0.88620622,\n",
       "        0.87243053,  0.82923808,  0.72887971,  0.50722221,  0.22015828,\n",
       "       -0.02546439, -0.02546439, -0.02546439, -0.02546439, -0.02546439,\n",
       "       -0.02546439, -0.02546439, -0.02546439, -0.02546439, -0.02546439])"
      ]
     },
     "execution_count": 198,
     "metadata": {},
     "output_type": "execute_result"
    }
   ],
   "source": [
    "from sklearn.preprocessing import StandardScaler\n",
    "import pandas as pd\n",
    "\n",
    "# Scale the data\n",
    "scaler = StandardScaler().fit(X_train)\n",
    "X_train_scaled = scaler.transform(X_train)\n",
    "X_test_scaled = scaler.transform(X_test)\n",
    "\n",
    "# Convert numpy arrays to pandas DataFrames\n",
    "X_train_df = pd.DataFrame(X_train_scaled)\n",
    "X_test_df = pd.DataFrame(X_test_scaled)\n",
    "\n",
    "# Calculate the correlation matrix\n",
    "corr_matrix = X_train_df.corr().abs()\n",
    "\n",
    "# Select upper triangle of correlation matrix\n",
    "upper = corr_matrix.where(np.triu(np.ones(corr_matrix.shape), k=1).astype(np.bool_))\n",
    "\n",
    "# Find index of feature columns with correlation greater than 0.95\n",
    "to_drop = [column for column in upper.columns if any(upper[column] > 0.95)]\n",
    "\n",
    "# Drop the highly correlated features from X_train_df and X_test_df\n",
    "X_train_df = X_train_df.drop(X_train_df.columns[to_drop], axis=1)\n",
    "X_test_df = X_test_df.drop(X_test_df.columns[to_drop], axis=1)\n",
    "\n",
    "# Convert pandas DataFrames back to numpy arrays\n",
    "X_train = X_train_df.values\n",
    "X_test = X_test_df.values\n",
    "# Initialize array to store R2 scores\n",
    "mean_acc = np.zeros(100)\n",
    "\n",
    "# Define alpha values\n",
    "alphas = np.logspace(-15, 1, 100)\n",
    "\n",
    "# Train model and calculate R2 score for each alpha\n",
    "for i, alpha in enumerate(alphas):\n",
    "    lasso = Lasso(alpha=alpha, max_iter=10000).fit(X_train_scaled, y_train)\n",
    "    yhat = lasso.predict(X_test_scaled)\n",
    "    mean_acc[i] = r2_score(y_test, yhat)\n",
    "\n",
    "# Print alpha that gives highest R2 score\n",
    "best_alpha = alphas[mean_acc.argmax()]\n",
    "print(f'Best alpha: {best_alpha}')\n",
    "\n",
    "# Print the best score on the test dataset\n",
    "best_score = mean_acc.max()\n",
    "print(f'Best score: {best_score}')\n",
    "\n",
    "mean_acc"
   ]
  },
  {
   "cell_type": "markdown",
   "id": "402c61ea",
   "metadata": {},
   "source": [
    "So we tried a lot tuning options but it seems that we reached a pint where we are extremely close to the limit of this algorithm. Increasing the number of iterations and decreasing the exponent to start when generating the range of numbers didn't bring anything valuable for the enhancement of the model. Same thing for removing highly correleted features as we were already pretty confident that there werent any in the first place."
   ]
  },
  {
   "cell_type": "markdown",
   "id": "a7386f8b",
   "metadata": {},
   "source": [
    "However, with the previous hyperparametering with alpha = 0.016297508346206444, we indeed achive the objective of having more than 0.85 accuracy on the test dataset."
   ]
  },
  {
   "cell_type": "markdown",
   "id": "6f29e982",
   "metadata": {},
   "source": [
    "# Ridge\n",
    "\n",
    "lets see try to do the same thing for Ridge"
   ]
  },
  {
   "cell_type": "code",
   "execution_count": 133,
   "id": "b1532e1e",
   "metadata": {},
   "outputs": [
    {
     "name": "stdout",
     "output_type": "stream",
     "text": [
      "Best alpha: 4.923882631706737\n",
      "Best score: 0.5842385716417865\n"
     ]
    },
    {
     "data": {
      "text/plain": [
       "array([0.54996555, 0.54997148, 0.549979  , 0.54998851, 0.55000055,\n",
       "       0.55001579, 0.55003509, 0.5500595 , 0.55009039, 0.55012947,\n",
       "       0.55017888, 0.55024135, 0.55032028, 0.55041994, 0.55054569,\n",
       "       0.55070421, 0.5509038 , 0.5511547 , 0.55146952, 0.55186358,\n",
       "       0.55235537, 0.55296682, 0.55372352, 0.55465456, 0.55579197,\n",
       "       0.55716931, 0.55881926, 0.56076977, 0.56303843, 0.56562495,\n",
       "       0.56850166, 0.57160264, 0.5748124 , 0.5779557 , 0.58079085,\n",
       "       0.58300855, 0.58423857, 0.58406562, 0.58205434, 0.57778209])"
      ]
     },
     "execution_count": 133,
     "metadata": {},
     "output_type": "execute_result"
    }
   ],
   "source": [
    "from sklearn.linear_model import Ridge\n",
    "from sklearn.metrics import r2_score\n",
    "from sklearn.preprocessing import StandardScaler\n",
    "\n",
    "# Scale the data\n",
    "scaler = StandardScaler().fit(X_train)\n",
    "X_train_scaled = scaler.transform(X_train)\n",
    "X_test_scaled = scaler.transform(X_test)\n",
    "\n",
    "# Initialize array to store R2 scores\n",
    "mean_acc = np.zeros(40)\n",
    "\n",
    "# Define alpha values\n",
    "alphas = np.logspace(-3, 1, 40)\n",
    "\n",
    "# Train model and calculate R2 score for each alpha\n",
    "for i, alpha in enumerate(alphas):\n",
    "    ridge = Ridge(alpha=alpha).fit(X_train_scaled, y_train)\n",
    "    yhat = ridge.predict(X_test_scaled)\n",
    "    mean_acc[i] = r2_score(y_test, yhat)\n",
    "\n",
    "# Print alpha that gives highest R2 score\n",
    "best_alpha = alphas[mean_acc.argmax()]\n",
    "print(f'Best alpha: {best_alpha}')\n",
    "\n",
    "# Print the best score on the test dataset\n",
    "best_score = mean_acc.max()\n",
    "print(f'Best score: {best_score}')\n",
    "\n",
    "mean_acc"
   ]
  },
  {
   "cell_type": "code",
   "execution_count": 217,
   "id": "0f77d1da",
   "metadata": {},
   "outputs": [
    {
     "name": "stdout",
     "output_type": "stream",
     "text": [
      "Best alpha: 5.21400828799969\n",
      "Best score: 0.584341919561761\n"
     ]
    },
    {
     "data": {
      "text/plain": [
       "array([0.54996555, 0.54996772, 0.5499701 , 0.54997272, 0.54997559,\n",
       "       0.54997874, 0.5499822 , 0.54998599, 0.54999016, 0.54999472,\n",
       "       0.54999974, 0.55000524, 0.55001127, 0.5500179 , 0.55002516,\n",
       "       0.55003314, 0.55004189, 0.55005149, 0.55006202, 0.55007357,\n",
       "       0.55008625, 0.55010016, 0.55011541, 0.55013215, 0.5501505 ,\n",
       "       0.55017063, 0.55019271, 0.55021693, 0.55024348, 0.5502726 ,\n",
       "       0.55030452, 0.55033952, 0.55037789, 0.55041994, 0.55046603,\n",
       "       0.55051653, 0.55057186, 0.55063247, 0.55069885, 0.55077154,\n",
       "       0.55085112, 0.55093823, 0.55103354, 0.55113781, 0.55125184,\n",
       "       0.5513765 , 0.55151272, 0.55166154, 0.55182402, 0.55200136,\n",
       "       0.55219479, 0.55240566, 0.55263539, 0.55288552, 0.55315763,\n",
       "       0.55345342, 0.55377467, 0.55412324, 0.55450105, 0.55491008,\n",
       "       0.55535238, 0.55583001, 0.55634504, 0.55689953, 0.55749547,\n",
       "       0.55813479, 0.55881926, 0.55955049, 0.56032982, 0.56115831,\n",
       "       0.56203662, 0.56296495, 0.56394296, 0.56496966, 0.56604329,\n",
       "       0.56716127, 0.56832004, 0.56951498, 0.57074026, 0.57198881,\n",
       "       0.57325212, 0.57452025, 0.57578169, 0.57702331, 0.57823035,\n",
       "       0.57938637, 0.58047331, 0.58147148, 0.58235965, 0.58311521,\n",
       "       0.58371424, 0.58413177, 0.58434192, 0.58431823, 0.58403388,\n",
       "       0.58346206, 0.58257626, 0.58135064, 0.57976039, 0.57778209])"
      ]
     },
     "execution_count": 217,
     "metadata": {},
     "output_type": "execute_result"
    }
   ],
   "source": [
    "from sklearn.linear_model import Ridge\n",
    "from sklearn.metrics import r2_score\n",
    "from sklearn.preprocessing import StandardScaler\n",
    "\n",
    "# Scale the data\n",
    "scaler = StandardScaler().fit(X_train)\n",
    "X_train_scaled = scaler.transform(X_train)\n",
    "X_test_scaled = scaler.transform(X_test)\n",
    "\n",
    "# Initialize array to store R2 scores\n",
    "mean_acc = np.zeros(100)\n",
    "\n",
    "# Define alpha values\n",
    "alphas = np.logspace(-3, 1, 100)\n",
    "\n",
    "# Train model and calculate R2 score for each alpha\n",
    "for i, alpha in enumerate(alphas):\n",
    "    ridge = Ridge(alpha=alpha).fit(X_train_scaled, y_train)\n",
    "    yhat = ridge.predict(X_test_scaled)\n",
    "    mean_acc[i] = r2_score(y_test, yhat)\n",
    "\n",
    "# Print alpha that gives highest R2 score\n",
    "best_alpha = alphas[mean_acc.argmax()]\n",
    "print(f'Best alpha: {best_alpha}')\n",
    "\n",
    "# Print the best score on the test dataset\n",
    "best_score = mean_acc.max()\n",
    "print(f'Best score: {best_score}')\n",
    "\n",
    "mean_acc"
   ]
  },
  {
   "cell_type": "code",
   "execution_count": 218,
   "id": "58cd1379",
   "metadata": {},
   "outputs": [
    {
     "name": "stdout",
     "output_type": "stream",
     "text": [
      "Highest value: 0.584341919561761\n",
      "Index of highest value: 92\n"
     ]
    },
    {
     "data": {
      "image/png": "[encoded data removed]",
      "text/plain": [
       "<Figure size 4000x600 with 1 Axes>"
      ]
     },
     "metadata": {},
     "output_type": "display_data"
    }
   ],
   "source": [
    "import numpy as np\n",
    "import matplotlib.pyplot as plt\n",
    "\n",
    "# Assuming mean_acc is your numpy array\n",
    "highest_value = np.max(mean_acc)\n",
    "highest_index = np.argmax(mean_acc)\n",
    "print(\"Highest value:\", highest_value)\n",
    "print(\"Index of highest value:\", highest_index)\n",
    "\n",
    "loc = np.arange(1, 101, step=1.0)\n",
    "plt.figure(figsize=(40, 6))\n",
    "plt.plot(range(1, 101), mean_acc)\n",
    "plt.xticks(loc)\n",
    "plt.xlabel('Number of Estimators')\n",
    "plt.ylabel('Accuracy')\n",
    "plt.show()\n"
   ]
  },
  {
   "cell_type": "code",
   "execution_count": 219,
   "id": "68e1248a",
   "metadata": {},
   "outputs": [
    {
     "data": {
      "text/html": [
       "<style>#sk-container-id-4 {color: black;}#sk-container-id-4 pre{padding: 0;}#sk-container-id-4 div.sk-toggleable {background-color: white;}#sk-container-id-4 label.sk-toggleable__label {cursor: pointer;display: block;width: 100%;margin-bottom: 0;padding: 0.3em;box-sizing: border-box;text-align: center;}#sk-container-id-4 label.sk-toggleable__label-arrow:before {content: \"▸\";float: left;margin-right: 0.25em;color: #696969;}#sk-container-id-4 label.sk-toggleable__label-arrow:hover:before {color: black;}#sk-container-id-4 div.sk-estimator:hover label.sk-toggleable__label-arrow:before {color: black;}#sk-container-id-4 div.sk-toggleable__content {max-height: 0;max-width: 0;overflow: hidden;text-align: left;background-color: #f0f8ff;}#sk-container-id-4 div.sk-toggleable__content pre {margin: 0.2em;color: black;border-radius: 0.25em;background-color: #f0f8ff;}#sk-container-id-4 input.sk-toggleable__control:checked~div.sk-toggleable__content {max-height: 200px;max-width: 100%;overflow: auto;}#sk-container-id-4 input.sk-toggleable__control:checked~label.sk-toggleable__label-arrow:before {content: \"▾\";}#sk-container-id-4 div.sk-estimator input.sk-toggleable__control:checked~label.sk-toggleable__label {background-color: #d4ebff;}#sk-container-id-4 div.sk-label input.sk-toggleable__control:checked~label.sk-toggleable__label {background-color: #d4ebff;}#sk-container-id-4 input.sk-hidden--visually {border: 0;clip: rect(1px 1px 1px 1px);clip: rect(1px, 1px, 1px, 1px);height: 1px;margin: -1px;overflow: hidden;padding: 0;position: absolute;width: 1px;}#sk-container-id-4 div.sk-estimator {font-family: monospace;background-color: #f0f8ff;border: 1px dotted black;border-radius: 0.25em;box-sizing: border-box;margin-bottom: 0.5em;}#sk-container-id-4 div.sk-estimator:hover {background-color: #d4ebff;}#sk-container-id-4 div.sk-parallel-item::after {content: \"\";width: 100%;border-bottom: 1px solid gray;flex-grow: 1;}#sk-container-id-4 div.sk-label:hover label.sk-toggleable__label {background-color: #d4ebff;}#sk-container-id-4 div.sk-serial::before {content: \"\";position: absolute;border-left: 1px solid gray;box-sizing: border-box;top: 0;bottom: 0;left: 50%;z-index: 0;}#sk-container-id-4 div.sk-serial {display: flex;flex-direction: column;align-items: center;background-color: white;padding-right: 0.2em;padding-left: 0.2em;position: relative;}#sk-container-id-4 div.sk-item {position: relative;z-index: 1;}#sk-container-id-4 div.sk-parallel {display: flex;align-items: stretch;justify-content: center;background-color: white;position: relative;}#sk-container-id-4 div.sk-item::before, #sk-container-id-4 div.sk-parallel-item::before {content: \"\";position: absolute;border-left: 1px solid gray;box-sizing: border-box;top: 0;bottom: 0;left: 50%;z-index: -1;}#sk-container-id-4 div.sk-parallel-item {display: flex;flex-direction: column;z-index: 1;position: relative;background-color: white;}#sk-container-id-4 div.sk-parallel-item:first-child::after {align-self: flex-end;width: 50%;}#sk-container-id-4 div.sk-parallel-item:last-child::after {align-self: flex-start;width: 50%;}#sk-container-id-4 div.sk-parallel-item:only-child::after {width: 0;}#sk-container-id-4 div.sk-dashed-wrapped {border: 1px dashed gray;margin: 0 0.4em 0.5em 0.4em;box-sizing: border-box;padding-bottom: 0.4em;background-color: white;}#sk-container-id-4 div.sk-label label {font-family: monospace;font-weight: bold;display: inline-block;line-height: 1.2em;}#sk-container-id-4 div.sk-label-container {text-align: center;}#sk-container-id-4 div.sk-container {/* jupyter's `normalize.less` sets `[hidden] { display: none; }` but bootstrap.min.css set `[hidden] { display: none !important; }` so we also need the `!important` here to be able to override the default hidden behavior on the sphinx rendered scikit-learn.org. See: https://github.com/scikit-learn/scikit-learn/issues/21755 */display: inline-block !important;position: relative;}#sk-container-id-4 div.sk-text-repr-fallback {display: none;}</style><div id=\"sk-container-id-4\" class=\"sk-top-container\"><div class=\"sk-text-repr-fallback\"><pre>Ridge(alpha=5.21400828799969)</pre><b>In a Jupyter environment, please rerun this cell to show the HTML representation or trust the notebook. <br />On GitHub, the HTML representation is unable to render, please try loading this page with nbviewer.org.</b></div><div class=\"sk-container\" hidden><div class=\"sk-item\"><div class=\"sk-estimator sk-toggleable\"><input class=\"sk-toggleable__control sk-hidden--visually\" id=\"sk-estimator-id-8\" type=\"checkbox\" checked><label for=\"sk-estimator-id-8\" class=\"sk-toggleable__label sk-toggleable__label-arrow\">Ridge</label><div class=\"sk-toggleable__content\"><pre>Ridge(alpha=5.21400828799969)</pre></div></div></div></div></div>"
      ],
      "text/plain": [
       "Ridge(alpha=5.21400828799969)"
      ]
     },
     "execution_count": 219,
     "metadata": {},
     "output_type": "execute_result"
    }
   ],
   "source": [
    "ridge_best = Ridge(alpha = 5.21400828799969)\n",
    "ridge_best.fit(X_train_scaled, y_train)"
   ]
  },
  {
   "cell_type": "code",
   "execution_count": 220,
   "id": "b3655dac",
   "metadata": {},
   "outputs": [],
   "source": [
    "# get a prediction\n",
    "y_hat = ridge_best.predict(X_train_scaled)\n",
    "y_ridge = ridge_best.predict(X_test_scaled)"
   ]
  },
  {
   "cell_type": "code",
   "execution_count": 221,
   "id": "ee173204",
   "metadata": {},
   "outputs": [
    {
     "name": "stdout",
     "output_type": "stream",
     "text": [
      "Training set accuracy:  0.994364052422003\n",
      "Test set accuracy:  0.584341919561761\n"
     ]
    }
   ],
   "source": [
    "print('Training set accuracy: ', r2_score(y_train, y_hat))\n",
    "print('Test set accuracy: ',r2_score(y_test, y_ridge))"
   ]
  },
  {
   "cell_type": "markdown",
   "id": "e674e829",
   "metadata": {},
   "source": [
    "As for Lasso, we can see some improvements by increasing the alpha max"
   ]
  },
  {
   "cell_type": "markdown",
   "id": "f400df3c",
   "metadata": {},
   "source": [
    "the results we got with Ridge are not satistfying enough so let's try a different aproach"
   ]
  },
  {
   "cell_type": "code",
   "execution_count": 193,
   "id": "2ffb47c1",
   "metadata": {},
   "outputs": [
    {
     "name": "stdout",
     "output_type": "stream",
     "text": [
      "{'alpha': 10.0, 'max_iter': 1000, 'solver': 'lsqr'}\n"
     ]
    }
   ],
   "source": [
    "from sklearn.preprocessing import PolynomialFeatures\n",
    "\n",
    "from sklearn.model_selection import GridSearchCV\n",
    "\n",
    "# Scale the data\n",
    "scaler = StandardScaler().fit(X_train)\n",
    "X_train_scaled = scaler.transform(X_train)\n",
    "X_test_scaled = scaler.transform(X_test)\n",
    "\n",
    "# Define the parameter grid\n",
    "param_grid = {\n",
    "    'alpha': np.logspace(-3, 1, 100),\n",
    "    'solver': ['auto', 'svd', 'cholesky', 'lsqr', 'sparse_cg', 'sag', 'saga'],\n",
    "    'max_iter': [1000, 2000, 3000, 4000, 5000]\n",
    "}\n",
    "\n",
    "# Initialize a Ridge model\n",
    "ridge = Ridge()\n",
    "\n",
    "# Initialize the GridSearchCV\n",
    "grid_search = GridSearchCV(ridge, param_grid, cv=5, scoring='r2')\n",
    "\n",
    "# Fit the GridSearchCV\n",
    "grid_search.fit(X_train_scaled, y_train)\n",
    "\n",
    "# Print the best parameters\n",
    "print(grid_search.best_params_)"
   ]
  },
  {
   "cell_type": "code",
   "execution_count": 196,
   "id": "59e08b84",
   "metadata": {},
   "outputs": [
    {
     "name": "stdout",
     "output_type": "stream",
     "text": [
      "Test score: 0.5777690833370273\n"
     ]
    }
   ],
   "source": [
    "# Use the best model to make predictions on the test dataset\n",
    "best_model = grid_search.best_estimator_\n",
    "yhat = best_model.predict(X_test_scaled)\n",
    "\n",
    "# Calculate the R2 score on the test dataset\n",
    "score = r2_score(y_test, yhat)\n",
    "print('Test score:', score)"
   ]
  },
  {
   "cell_type": "markdown",
   "id": "dfff1686",
   "metadata": {},
   "source": [
    "The best results achived for each one are : \n",
    "Lasso : 0.8941285295365173\n",
    "\n",
    "Ridge : 0.584341919561761\n",
    "\n",
    "Based on the differences between Lasso and Ridge regression and the performance results we've seen, we can make a few assumptions:\n",
    "\n",
    "We already know that the data are not highly correlated so its mostly not a multicollinearity issue\n",
    "\n",
    "Lasso shrinks the coefficient all the way to zero while ridge can only do it close to zero which is an important point if there are only few relevant features.\n",
    "\n",
    "So the we can consider these options: \n",
    "\n",
    "Feature Relevance: Given that Lasso performs feature selection and is outperforming Ridge, it's possible that that the dataset contains irrelevant features. Lasso is able to ignore these features by setting their coefficients to zero, which could be improving its performance.\n",
    "\n",
    "Model Complexity: Related to the previous point, if Lasso is creating a simpler model by ignoring irrelevant features, this could be leading to better generalization on the test set and higher performance."
   ]
  },
  {
   "cell_type": "markdown",
   "id": "f3d263e7",
   "metadata": {},
   "source": [
    "RFE is a method that fits the model, ranks features by importance, discards the least important features, and repeats the process. let's try it to see if they are indeed irrelevant features according to this algorithm"
   ]
  },
  {
   "cell_type": "code",
   "execution_count": 180,
   "id": "828b20fb",
   "metadata": {},
   "outputs": [
    {
     "name": "stdout",
     "output_type": "stream",
     "text": [
      "[False False False False False False False False False False  True False\n",
      " False False False False False False False False False False False False\n",
      " False False False False False False False False False  True False False\n",
      " False False False False False False False False False False False False\n",
      " False False False False False False False False False False False False\n",
      " False False False False False False False False False False False False\n",
      " False False False False False False False False False False False False\n",
      " False False False False  True False False False False False False False\n",
      " False False False False]\n",
      "[48 15 17 80 37  4 52 29 77 34  1 16 65 62 61 81 14 84 25  5 45 85 53 79\n",
      " 56 22 42 83  3 59 43 57 18  1 86 19 96 71 49 33 97 64 58 78  2 40 87 21\n",
      "  8 51 50 35 54 74 10 94 44 23  9  7 36  6 92 72 82 91 13 69 68 95 67 24\n",
      " 90 20 38 28 98 41 66 12 63 89 55 70 73 76 46 32  1 88 31 93 47 30 60 27\n",
      " 39 75 26 11]\n"
     ]
    }
   ],
   "source": [
    "from sklearn.feature_selection import RFE\n",
    "from sklearn.linear_model import LinearRegression\n",
    "\n",
    "# create a base classifier used to evaluate a subset of attributes\n",
    "model = LinearRegression()\n",
    "\n",
    "# create the RFE model and select 3 attributes\n",
    "rfe = RFE(estimator=model, n_features_to_select=3)\n",
    "rfe = rfe.fit(X_train, y_train)\n",
    "\n",
    "# summarize the selection of the attributes\n",
    "print(rfe.support_)\n",
    "print(rfe.ranking_)"
   ]
  },
  {
   "cell_type": "markdown",
   "id": "939752d8",
   "metadata": {},
   "source": [
    "The first array (rfe.support_) is a boolean mask that indicates which features were selected as relevant. True means the feature is relevant and False means it's not. In our case, it seems that three features have been selected as relevant.\n",
    "\n",
    "The second array (rfe.ranking_) gives the ranking of the features. A rank of 1 means the feature is most important. The features with a rank of 1 correspond to the True values in the rfe.support_ array.\n",
    "\n",
    "So, in conclusion, RFE has determined that three of your features are relevant for predicting the target variable. The rest of the features are considered less important, with their ranking indicating their relative importance. Thus, according to the results of RFE method, there is indeed a lot of irrelevant features that could explain why Lasso works better than Ridge "
   ]
  }
 ],
 "metadata": {
  "kernelspec": {
   "display_name": "Python 3 (ipykernel)",
   "language": "python",
   "name": "python3"
  },
  "language_info": {
   "codemirror_mode": {
    "name": "ipython",
    "version": 3
   },
   "file_extension": ".py",
   "mimetype": "text/x-python",
   "name": "python",
   "nbconvert_exporter": "python",
   "pygments_lexer": "ipython3",
   "version": "3.9.18"
  }
 },
 "nbformat": 4,
 "nbformat_minor": 5
}
